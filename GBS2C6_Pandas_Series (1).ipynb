{
 "cells": [
  {
   "cell_type": "markdown",
   "id": "cf978952-3776-4688-99a5-a94777d66c53",
   "metadata": {},
   "source": [
    "# Class 6: Introduction to Pandas pt.1\n",
    "\n",
    "In this Jupyter Notebook you will learn about the basic workings of Pandas Series structures. Please work through this document's Python-3 code cells to experience the power of the Pandas library.\n",
    "\n",
    "Pandas is a standard data science libaray for Python-3. Pandas is built on top of the Numpy library so working with the various data structures should be easy to pick up quickly. You can read about Pandas (series) more @ the Pandas online docs: https://pandas.pydata.org/pandas-docs/stable/reference/api/pandas.Series.html"
   ]
  },
  {
   "cell_type": "code",
   "execution_count": null,
   "id": "bf9135ea-9ca4-4a35-8c42-ce3c31ca193c",
   "metadata": {},
   "outputs": [],
   "source": [
    "import pandas as pd"
   ]
  },
  {
   "cell_type": "markdown",
   "id": "e794a494-e6dc-448d-a4f9-0c63909e5fae",
   "metadata": {},
   "source": [
    "___\n",
    "## Pandas Series\n",
    "\n",
    "A **series** is a simple Pandas data structure used to store data in a linear fashion. Here are a few details about Pandas series:\n",
    "* Series are to be of a single data type.\n",
    "* Series are linear, this means the data has a numerical position.\n",
    "* Series values have a column which can be either the numerical position (default) or a custom value to represent each piece of data.\n",
    "* Series can be index in a number of unique ways.\n",
    "* Series can be modified using standard Python-3 operators (arithmetic & boolean).\n",
    "* Series have attached attributes associated with them such as name, data-types, or other infomation.\n",
    "* Series have built-in methods that can quickly process the data points.\n",
    "* Series are the base structure of Pandas data frames.\n"
   ]
  },
  {
   "cell_type": "markdown",
   "id": "2ccff695-a4a5-48a1-a21a-3ae5478a5441",
   "metadata": {
    "tags": []
   },
   "source": [
    "___\n",
    "## Section 1:\n",
    "### Creating Series\n",
    "\n",
    "Here are a few ways to create Pandas series:\n",
    "1. Python-3 dictionary\n",
    "2. Hard coded data (data with unnamed columns)"
   ]
  },
  {
   "cell_type": "markdown",
   "id": "fa5032c4-e8be-48bb-8c38-6c768518404f",
   "metadata": {},
   "source": [
    "#### Python-3 dictionary\n",
    "\n",
    "Dictionaries are Key:Value pairing data structures. This structure can then be directly implemented into the Pandas Series."
   ]
  },
  {
   "cell_type": "code",
   "execution_count": null,
   "id": "9e22ab38-045d-46ef-936e-81a383232648",
   "metadata": {},
   "outputs": [],
   "source": [
    "g7_data = {\n",
    "    \"Canada\": 35.467,\n",
    "    \"France\": 63.951,\n",
    "    \"Germay\": 80.940,\n",
    "    \"Italy\": 60.665,\n",
    "    \"Japan\": 127.061,\n",
    "    \"United Kingdom\": 64.511,\n",
    "    \"United States\": 318.523\n",
    "}\n",
    "\n",
    "G7_pop = pd.Series(g7_data)\n",
    "\n",
    "# Display pd-series\n",
    "G7_pop"
   ]
  },
  {
   "cell_type": "markdown",
   "id": "de685cf5-5566-4036-8852-596ba34d6a2c",
   "metadata": {},
   "source": [
    "#### Hard coded data (data with unnamed columns)"
   ]
  },
  {
   "cell_type": "code",
   "execution_count": null,
   "id": "d203c6c4-6ed2-410e-b778-9eaf21ab6444",
   "metadata": {},
   "outputs": [],
   "source": [
    "G7_pop = pd.Series([35.467, 63.951, 80.940, 60.665, 127.061, 64.511, 318.523])\n",
    "\n",
    "G7_pop"
   ]
  },
  {
   "cell_type": "markdown",
   "id": "e3f01540-71c5-4605-8962-dc6d3c1e1827",
   "metadata": {},
   "source": [
    "From the cell above, you can see the pd-series' columns are auto named with 0-n\n",
    "\n",
    "You can add specific names to the columns using the series' **.index** attribute."
   ]
  },
  {
   "cell_type": "code",
   "execution_count": null,
   "id": "2307e2ec-97d1-4bad-aca6-3ecc54d1228b",
   "metadata": {
    "tags": []
   },
   "outputs": [],
   "source": [
    "G7_pop.index = [\n",
    "    'Canada',\n",
    "    'France',\n",
    "    'Germany',\n",
    "    'Italy',\n",
    "    'Japan',\n",
    "    'United Kingdom',\n",
    "    'United States',\n",
    "]\n",
    "\n",
    "G7_pop"
   ]
  },
  {
   "cell_type": "markdown",
   "id": "159a7384-1be8-45fd-94a8-8f30ee2f8dcb",
   "metadata": {},
   "source": [
    "___\n",
    "## Section 2:\n",
    "#### Naming a Series\n",
    "\n",
    "Sometimes, for organization and data visualization you want the series to be named. This can be completed by using the **.name** attribute"
   ]
  },
  {
   "cell_type": "code",
   "execution_count": null,
   "id": "ce895da8-6653-4e02-b227-1a74c17b2b82",
   "metadata": {},
   "outputs": [],
   "source": [
    "G7_pop.name = 'G7 Population in millions'\n",
    "\n",
    "# Display the series info (and name)\n",
    "G7_pop"
   ]
  },
  {
   "cell_type": "markdown",
   "id": "be711de4-567e-4e61-8bb0-36031c5fb3e8",
   "metadata": {},
   "source": [
    "___\n",
    "## Section 3:\n",
    "#### Getting data regarding the series"
   ]
  },
  {
   "cell_type": "code",
   "execution_count": null,
   "id": "e0795914-c3e4-42a9-bd0b-d63642664ae9",
   "metadata": {},
   "outputs": [],
   "source": [
    "G7_pop.info"
   ]
  },
  {
   "cell_type": "markdown",
   "id": "4f3fb01b-8a81-4e83-bf97-8814ccb4a018",
   "metadata": {},
   "source": [
    "Pd-Series are generally of a single data type. This is because when you go to run some process on the data (for data science) it is important that the data is homogeneous."
   ]
  },
  {
   "cell_type": "code",
   "execution_count": null,
   "id": "e89e71a1-1eba-408f-89cd-d4d3f79c827a",
   "metadata": {},
   "outputs": [],
   "source": [
    "G7_pop.dtype"
   ]
  },
  {
   "cell_type": "code",
   "execution_count": null,
   "id": "a7d811a0-568c-4bcc-a9df-ade76f7c6529",
   "metadata": {},
   "outputs": [],
   "source": [
    "G7_pop.values"
   ]
  },
  {
   "cell_type": "code",
   "execution_count": null,
   "id": "da428ef3-4ec3-4079-8349-08c49b6558bd",
   "metadata": {},
   "outputs": [],
   "source": [
    "G7_pop.index"
   ]
  },
  {
   "cell_type": "markdown",
   "id": "49dfa68e-fee6-45cb-9446-df598c76c751",
   "metadata": {},
   "source": [
    "_Notice_, all the code above can be stored into variables or used as conditional values. As they are seen above, outputting is their only function."
   ]
  },
  {
   "cell_type": "markdown",
   "id": "99515f0f-eddf-4164-8f12-9ed4074c0104",
   "metadata": {
    "tags": []
   },
   "source": [
    "___\n",
    "## Section 4:\n",
    "#### Indexing pd-series"
   ]
  },
  {
   "cell_type": "markdown",
   "id": "a4d4bfcf-c009-4ccb-8001-397ff52fe7c7",
   "metadata": {},
   "source": [
    "**a.** Similar to a Python-3 dictionary, your programs can index the pd-series by column name."
   ]
  },
  {
   "cell_type": "code",
   "execution_count": null,
   "id": "3343b765-afd1-4225-ae3b-48052a5d339b",
   "metadata": {},
   "outputs": [],
   "source": [
    "G7_pop['Canada']"
   ]
  },
  {
   "cell_type": "code",
   "execution_count": null,
   "id": "b1b4e9b6-8b78-4d58-8677-669934b00841",
   "metadata": {},
   "outputs": [],
   "source": [
    "G7_pop['Japan']"
   ]
  },
  {
   "cell_type": "markdown",
   "id": "521c3396-68b1-4ec1-a245-1028e23a6967",
   "metadata": {},
   "source": [
    "**b.** Indexing by numerical position using the **.iloc()** method."
   ]
  },
  {
   "cell_type": "code",
   "execution_count": null,
   "id": "4c3445fa-09fd-487d-90d8-9fb756214190",
   "metadata": {},
   "outputs": [],
   "source": [
    "# index the first value\n",
    "G7_pop.iloc[0]"
   ]
  },
  {
   "cell_type": "code",
   "execution_count": null,
   "id": "3a04789a-fa51-484b-9f78-a221b272a596",
   "metadata": {},
   "outputs": [],
   "source": [
    "# index the last value\n",
    "G7_pop.iloc[-1]"
   ]
  },
  {
   "cell_type": "markdown",
   "id": "ebbd8f6c-f639-4eee-b15e-827bc9b29e91",
   "metadata": {},
   "source": [
    "**c.** Selecting multiple elements at one time."
   ]
  },
  {
   "cell_type": "code",
   "execution_count": null,
   "id": "e2a42b93-bdad-4353-8d31-45623253d6ed",
   "metadata": {},
   "outputs": [],
   "source": [
    "G7_pop[[\"Italy\", \"France\"]]"
   ]
  },
  {
   "cell_type": "markdown",
   "id": "eebb55db-434c-4399-ba3f-11a1827f00ee",
   "metadata": {},
   "source": [
    "**d.** Standard indexing (as you would a Python-3 list)."
   ]
  },
  {
   "cell_type": "code",
   "execution_count": null,
   "id": "abb0b3ef-9e04-421f-883c-08b75a0a4a1e",
   "metadata": {},
   "outputs": [],
   "source": [
    "G7_pop[2]"
   ]
  },
  {
   "cell_type": "markdown",
   "id": "20e86295-2531-45cf-a554-91a5b835ffe8",
   "metadata": {},
   "source": [
    "___\n",
    "## Section 5:\n",
    "#### Modifying Series"
   ]
  },
  {
   "cell_type": "markdown",
   "id": "325d0d57-abd8-4e2d-80cb-4f107bb0ffe1",
   "metadata": {},
   "source": [
    "**a.** Changing a value by column name"
   ]
  },
  {
   "cell_type": "code",
   "execution_count": null,
   "id": "f003cc58-1799-4793-8469-40284cff25f6",
   "metadata": {},
   "outputs": [],
   "source": [
    "G7_pop[\"Italy\"] = 61.899"
   ]
  },
  {
   "cell_type": "code",
   "execution_count": null,
   "id": "474582bd-5c07-4f2e-a912-796c520b6c0a",
   "metadata": {},
   "outputs": [],
   "source": [
    "G7_pop"
   ]
  },
  {
   "cell_type": "markdown",
   "id": "25f68deb-e5fe-498f-a582-eddf07703ccc",
   "metadata": {},
   "source": [
    "**b.** Add value to specific index"
   ]
  },
  {
   "cell_type": "code",
   "execution_count": null,
   "id": "de6ab510-614e-423b-9d17-843b59c332ac",
   "metadata": {},
   "outputs": [],
   "source": [
    "G7_pop['Canada'] -= 20"
   ]
  },
  {
   "cell_type": "code",
   "execution_count": null,
   "id": "4dba39ef-535f-43a9-b939-7950bc98e1ec",
   "metadata": {},
   "outputs": [],
   "source": [
    "G7_pop"
   ]
  },
  {
   "cell_type": "markdown",
   "id": "06775171-9ea5-4007-97b1-357befaf5286",
   "metadata": {},
   "source": [
    "**c.** Modifying value using **.iloc()** method"
   ]
  },
  {
   "cell_type": "code",
   "execution_count": null,
   "id": "ddf272b2-567d-436c-a911-7eaba67e07e4",
   "metadata": {},
   "outputs": [],
   "source": [
    "G7_pop.iloc[-1] = 500"
   ]
  },
  {
   "cell_type": "markdown",
   "id": "81b88b24-8e90-47e3-be9c-8aeae73fee12",
   "metadata": {},
   "source": [
    "**d.** modifying sub-slicing series based on conditional indexing"
   ]
  },
  {
   "cell_type": "code",
   "execution_count": null,
   "id": "2ec2b3da-88c3-4c66-b4fc-2bc90e7de287",
   "metadata": {},
   "outputs": [],
   "source": [
    "G7_pop[G7_pop < 70] = 90"
   ]
  },
  {
   "cell_type": "code",
   "execution_count": null,
   "id": "822a2292-cd7c-496c-bad0-4fbb50547dc1",
   "metadata": {},
   "outputs": [],
   "source": [
    "G7_pop"
   ]
  },
  {
   "cell_type": "markdown",
   "id": "5a929f8a-e9ab-4f64-8809-e8a50ca0a84f",
   "metadata": {},
   "source": [
    "___\n",
    "## Section 6:\n",
    "#### Boolean Series"
   ]
  },
  {
   "cell_type": "code",
   "execution_count": null,
   "id": "9bcefdb5-8207-4b7f-9aa7-96db42465e9f",
   "metadata": {
    "jupyter": {
     "source_hidden": true
    },
    "tags": []
   },
   "outputs": [],
   "source": [
    "# reset series\n",
    "g7_data = {\n",
    "    \"Canada\": 35.467,\n",
    "    \"France\": 63.951,\n",
    "    \"Germay\": 80.940,\n",
    "    \"Italy\": 60.665,\n",
    "    \"Japan\": 127.061,\n",
    "    \"United Kingdom\": 64.511,\n",
    "    \"United States\": 318.523\n",
    "}\n",
    "\n",
    "G7_pop = pd.Series(g7_data)"
   ]
  },
  {
   "cell_type": "markdown",
   "id": "faa3797d-8307-485e-810a-28995d454133",
   "metadata": {},
   "source": [
    "**a.** Access all values of a series that are True (based on the conditions)"
   ]
  },
  {
   "cell_type": "code",
   "execution_count": null,
   "id": "a4696480-34b4-4c3c-a07a-abce3305406a",
   "metadata": {},
   "outputs": [],
   "source": [
    "G7_pop > 80"
   ]
  },
  {
   "cell_type": "markdown",
   "id": "d7293ce6-c4ad-4ad7-a502-7b3fc2a14b7d",
   "metadata": {},
   "source": [
    "**b.** Creating sub-series of values that meet a conditional statement"
   ]
  },
  {
   "cell_type": "code",
   "execution_count": null,
   "id": "961225d2-d3aa-494c-b2d1-384232e10671",
   "metadata": {},
   "outputs": [],
   "source": [
    "G7_pop[G7_pop > 80]"
   ]
  },
  {
   "cell_type": "markdown",
   "id": "f6c71a1e-9a24-4f42-8be1-b928ba936a25",
   "metadata": {},
   "source": [
    "**c.** Creating sub-series of values that meet compund (2+) conditional statement"
   ]
  },
  {
   "cell_type": "code",
   "execution_count": null,
   "id": "26fce9db-4ba0-44c8-a56e-b781eaeb67db",
   "metadata": {},
   "outputs": [],
   "source": [
    "G7_pop[(G7_pop > 80) | (G7_pop < 40)]"
   ]
  },
  {
   "cell_type": "code",
   "execution_count": null,
   "id": "1ff8402c-a5a3-4add-8feb-87b9fff99572",
   "metadata": {},
   "outputs": [],
   "source": [
    "G7_pop[(G7_pop > 80) & (G7_pop < 200)]"
   ]
  },
  {
   "cell_type": "code",
   "execution_count": null,
   "id": "fdc271ae-eb6e-41f7-991e-f0df83467ff8",
   "metadata": {},
   "outputs": [],
   "source": []
  }
 ],
 "metadata": {
  "kernelspec": {
   "display_name": "Python 3 (ipykernel)",
   "language": "python",
   "name": "python3"
  },
  "language_info": {
   "codemirror_mode": {
    "name": "ipython",
    "version": 3
   },
   "file_extension": ".py",
   "mimetype": "text/x-python",
   "name": "python",
   "nbconvert_exporter": "python",
   "pygments_lexer": "ipython3",
   "version": "3.9.12"
  }
 },
 "nbformat": 4,
 "nbformat_minor": 5
}
