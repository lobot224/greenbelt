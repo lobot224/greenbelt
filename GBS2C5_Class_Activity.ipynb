{
 "cells": [
  {
   "cell_type": "markdown",
   "id": "f5f2524c-741e-4495-a7d7-804e70e48b1f",
   "metadata": {},
   "source": [
    "# Class 5: Introduction to Numpy \n",
    "\n",
    "* Please create your own Jupyter Notebook file titled, \"GBS2C5_Numpy_practice.ipynb\"\n",
    "\n",
    "In this file, you will be introduced to the inner workings and features of the Numpy library. Please follow along using your own blank notebook.\n",
    "\n",
    "\n",
    "For additional information on Numpy, please take a look at the following resources;\n",
    "* Online documentation: https://numpy.org/doc/stable/index.html\n",
    "* Numpy Method cheat-sheet: https://ashutoshtripathicom.files.wordpress.com/2019/02/numpy-cheat-sheet.png?w=840"
   ]
  },
  {
   "cell_type": "code",
   "execution_count": null,
   "id": "d6a1b6dc-5a51-4513-bbd8-64966d92586d",
   "metadata": {},
   "outputs": [],
   "source": [
    "import numpy as np"
   ]
  },
  {
   "cell_type": "markdown",
   "id": "0c63869e-d602-40de-9476-368995f58d38",
   "metadata": {},
   "source": [
    "### 2D Arrays\n",
    "A 2D array is an array within an array. "
   ]
  },
  {
   "cell_type": "code",
   "execution_count": null,
   "id": "711cf8be-9095-4426-8f46-e8871b4f9139",
   "metadata": {},
   "outputs": [],
   "source": [
    "# Making a Numpy array using np.array([])\n",
    "A = np.array([\n",
    "    [1, 2, 3, 4],\n",
    "    [4, 5, 6, 4],\n",
    "    [7, 8, 9, 4]\n",
    "    ])"
   ]
  },
  {
   "cell_type": "markdown",
   "id": "b4d19413-6435-4d43-b207-6553aafb272a",
   "metadata": {},
   "source": [
    "### Shape\n",
    "The shape of an np.array is the number of lists and the size of those list (n, m) or (numLists, size of list).\n",
    "\n",
    "'Shape' is a common term used in data science to describe the configuration of data. number of elements, rows, columns, storage-size are all considered part of the data's 'shape'"
   ]
  },
  {
   "cell_type": "code",
   "execution_count": 141,
   "id": "1a074ab8-396d-463a-afa3-77d3da635db4",
   "metadata": {},
   "outputs": [
    {
     "data": {
      "text/plain": [
       "(3, 4)"
      ]
     },
     "execution_count": 141,
     "metadata": {},
     "output_type": "execute_result"
    }
   ],
   "source": [
    "A.shape"
   ]
  },
  {
   "cell_type": "markdown",
   "id": "76e28108-3def-43c9-ac75-db172d59ff8f",
   "metadata": {},
   "source": [
    "### Size\n",
    "The size of an np.array is the number of values in the entire array."
   ]
  },
  {
   "cell_type": "code",
   "execution_count": 142,
   "id": "7c3f83a9-3fd5-4387-ab3f-a514058a0ad0",
   "metadata": {},
   "outputs": [
    {
     "data": {
      "text/plain": [
       "12"
      ]
     },
     "execution_count": 142,
     "metadata": {},
     "output_type": "execute_result"
    }
   ],
   "source": [
    "A.size"
   ]
  },
  {
   "cell_type": "markdown",
   "id": "e2a9d2a5-712a-4094-b0ee-40862f0227d5",
   "metadata": {},
   "source": [
    "### 3D Array\n",
    "A 3D array is an array with 3 levels of arrays. Array within an array within an array."
   ]
  },
  {
   "cell_type": "code",
   "execution_count": null,
   "id": "6eac2655-e7d1-44d4-b740-98d0b45ba98a",
   "metadata": {},
   "outputs": [],
   "source": [
    "B = np.array([\n",
    "    [\n",
    "        [12, 11, 10],\n",
    "        [9, 8, 7]\n",
    "    ],\n",
    "    [\n",
    "        [6, 5, 4],\n",
    "        [3, 2, 1]\n",
    "    ]\n",
    "])"
   ]
  },
  {
   "cell_type": "markdown",
   "id": "ebaf5c16-2301-40d0-ac8e-47acf3fd8bd6",
   "metadata": {},
   "source": [
    "A 3D array's shape attribute will display the number of sub arrays, and the number of sub arrays within that, as well as the size."
   ]
  },
  {
   "cell_type": "code",
   "execution_count": 145,
   "id": "c543e54f-151d-4b9a-9865-c4a901aea937",
   "metadata": {},
   "outputs": [
    {
     "data": {
      "text/plain": [
       "(2, 2, 3)"
      ]
     },
     "execution_count": 145,
     "metadata": {},
     "output_type": "execute_result"
    }
   ],
   "source": [
    "B.shape"
   ]
  },
  {
   "cell_type": "markdown",
   "id": "1f045ab3-a757-454b-8d0b-517973348b10",
   "metadata": {},
   "source": [
    " ### Challenge\n",
    " Add 1 vaule to all the arrays and re-run this cell. Please store B.shape in a variable (small tuple [list] of 3 values) and print them along with what they represent."
   ]
  },
  {
   "cell_type": "code",
   "execution_count": 146,
   "id": "4e1241a8-959a-4506-9ecf-496d4b0ba631",
   "metadata": {
    "tags": []
   },
   "outputs": [
    {
     "name": "stdout",
     "output_type": "stream",
     "text": [
      "The number of first-level sub arrays is: 2\n",
      "The number of Second-level sub arrays is: 2\n",
      "The number of values in each second level sub  array is: 3\n"
     ]
    }
   ],
   "source": [
    "BShape = B.shape\n",
    "print(\"The number of first-level sub arrays is: {}\".format(BShape[0]))\n",
    "print(\"The number of Second-level sub arrays is: {}\".format(BShape[1]))\n",
    "print(\"The number of values in each second level sub  array is: {}\".format(BShape[2]))"
   ]
  },
  {
   "cell_type": "markdown",
   "id": "42222ddb-ca84-4021-b515-c72af50541c7",
   "metadata": {
    "tags": []
   },
   "source": [
    "### Question\n",
    "* What happens if the number of sub arrays is not the same? Add a single sub array within one sub array."
   ]
  },
  {
   "cell_type": "code",
   "execution_count": 149,
   "id": "c8defcd9-aa84-4271-b08b-360542a9bcc4",
   "metadata": {
    "tags": []
   },
   "outputs": [],
   "source": [
    "# adding uneven number of  values in sub-array\n",
    "B = np.array([\n",
    "    [\n",
    "        [12, 11, 10],\n",
    "        [9, 8, 7]\n",
    "    ],\n",
    "    [\n",
    "        [6, 5, 4],\n",
    "        [3, 2, 1]\n",
    "    ]\n",
    "])"
   ]
  },
  {
   "cell_type": "markdown",
   "id": "72d21e02-562c-49b4-9b1d-b358d439ec79",
   "metadata": {
    "tags": []
   },
   "source": [
    "### Answer\n",
    "* np.array's do not allow for sub-arrays to be of uneven sizes unless you specify the 'dtype' attribute (read error message). This is important to note as you might have to use this feature in today's lab....."
   ]
  },
  {
   "cell_type": "markdown",
   "id": "234c8a6f-ee7d-4362-9c6a-514c4f16b94e",
   "metadata": {
    "tags": []
   },
   "source": [
    "### Challenge:\n",
    "* Please use Google to determine what the attribute B.ndim displays.\n",
    "(note, fix error on array 'B' before running this code)"
   ]
  },
  {
   "cell_type": "code",
   "execution_count": 152,
   "id": "a2638e4f-d754-40ed-8793-08eae52db712",
   "metadata": {
    "tags": []
   },
   "outputs": [
    {
     "name": "stdout",
     "output_type": "stream",
     "text": [
      "2\n",
      "3\n"
     ]
    }
   ],
   "source": [
    "print(A.ndim)\n",
    "print(B.ndim)"
   ]
  },
  {
   "cell_type": "markdown",
   "id": "a7711ffb-cb57-4147-9da6-677a7031be42",
   "metadata": {
    "tags": []
   },
   "source": [
    "### Result:\n",
    "* The np.array.ndim displays the 'n'umber of 'dim'ensions an array contains. This means our 2D arrays will output 2 and our 3D arrays will output 3\n",
    "* You can find the online docs @ https://numpy.org/doc/stable/reference/generated/numpy.ndarray.ndim.html"
   ]
  },
  {
   "cell_type": "markdown",
   "id": "7e5f6360-b833-4b89-b8ba-4d255bc886ef",
   "metadata": {},
   "source": [
    "### Creating arrays\n",
    "Below are a few ways that numpy arrays can be created. Run this cell a number of times to examine the post-creation of each array."
   ]
  },
  {
   "cell_type": "code",
   "execution_count": null,
   "id": "8df51234-5fc1-4c58-bafa-6879674b2dba",
   "metadata": {},
   "outputs": [],
   "source": [
    "# Creating a 1D array\n",
    "a = np.array([1, 2, 3])\n",
    "b = np.array([(1.5, 2, 3), (4, 5, 6)], dtype=float)\n",
    "c = np.array([\n",
    "    [(1, 2, 3), (4, 5, 6)],\n",
    "    [(10, 11, 12), (13, 14, 15)]\n",
    "                              ])\n",
    "# Create an array of specific shape filled with '0'\n",
    "d = np.zeros((3,4))\n",
    "# Create an array of specific shape filled with '1'\n",
    "e = np.ones((1, 2, 3))\n",
    "# Create an array with random values\n",
    "f = np.random.random((2,3))\n",
    "# Create empty array\n",
    "g = np.empty((2,3))\n",
    "\n",
    "# Create an array with sequential values\n",
    "h = np.arange(4)"
   ]
  },
  {
   "cell_type": "markdown",
   "id": "783ab398-3421-4769-bf0a-be1ec181de6f",
   "metadata": {},
   "source": [
    "### Task:\n",
    "* Out put these arrays to see their sizes and values."
   ]
  },
  {
   "cell_type": "code",
   "execution_count": null,
   "id": "87f5313d-2bae-4fca-ab91-160781fe45bc",
   "metadata": {},
   "outputs": [],
   "source": []
  },
  {
   "cell_type": "markdown",
   "id": "003df3fc-fcf2-4941-aa0a-6275cfdf0862",
   "metadata": {},
   "source": [
    "### Data Types\n",
    "Sometimes, you need to know the type of data that your array is working with. For this you can use the following attributes. "
   ]
  },
  {
   "cell_type": "code",
   "execution_count": null,
   "id": "5d55bf56-432d-4b29-a108-161df08455a1",
   "metadata": {},
   "outputs": [],
   "source": [
    "myArray = np.array([\n",
    "    ['a', 'b', 'c'],\n",
    "    ['d', 'e', 'f'],\n",
    "    ['g', 'h', 'i']\n",
    "])\n",
    "\n",
    "print(myArray.dtype)\n",
    "print(myArray.dtype.name)"
   ]
  },
  {
   "cell_type": "markdown",
   "id": "2b9e4d5e-c70a-4df5-90ee-e7c5daa04af6",
   "metadata": {},
   "source": [
    "Arrays with convertable values can be 'casted' by using the .astype() method."
   ]
  },
  {
   "cell_type": "code",
   "execution_count": null,
   "id": "96dbac1e-99d8-424b-96b5-0c20a29892c8",
   "metadata": {},
   "outputs": [],
   "source": [
    "myArray = np.array([\n",
    "    ['1', '2', '3'],\n",
    "    ['4', '5', '6'],\n",
    "    ['7', '8', '9']\n",
    "])\n",
    "\n",
    "print(\"Before type casting:\")\n",
    "print(myArray.dtype)\n",
    "print(myArray.dtype.name)\n",
    "\n",
    "myArray = myArray.astype(int)\n",
    "\n",
    "print(\"\\nAfter type casting:\")\n",
    "print(myArray.dtype)\n",
    "print(myArray.dtype.name)"
   ]
  },
  {
   "cell_type": "markdown",
   "id": "95b37410-9252-4967-8532-5b3afd0dd349",
   "metadata": {
    "tags": []
   },
   "source": [
    "### Multi-Array operations\n",
    "When you have multiple arrays of the same shape and size, you can use arithmetic operations on them. "
   ]
  },
  {
   "cell_type": "code",
   "execution_count": null,
   "id": "5b124efb-c9d3-40d9-b7c8-cf98bd1acc7b",
   "metadata": {
    "tags": []
   },
   "outputs": [],
   "source": [
    "# Create 2 arrays of (2,3)\n",
    "\n",
    "Array_1 = np.array([\n",
    "    [1, 2, 3],\n",
    "    [4, 5, 6]\n",
    "])\n",
    "\n",
    "Array_2 = np.array([\n",
    "    [10, 20, 30],\n",
    "    [40, 50, 60]\n",
    "])\n",
    "\n",
    "# addition options\n",
    "Array_test_1 = Array_1 + Array_2\n",
    "Array_test_2 = np.add(Array_1, Array_2)\n",
    "print(\"****Addition****\")\n",
    "print(\"Test array 1: {}\".format(Array_test_1))\n",
    "print(\"Test array 2: {}\".format(Array_test_2))\n",
    "\n",
    "# subration\n",
    "Array_test_1 = Array_1 - Array_2\n",
    "Array_test_2 = np.subtract(Array_1, Array_2)\n",
    "print(\"****Subration****\")\n",
    "print(\"Test array 1: {}\".format(Array_test_1))\n",
    "print(\"Test array 2: {}\".format(Array_test_2))\n",
    "\n",
    "# division\n",
    "Array_test_1 = Array_2 / Array_1\n",
    "Array_test_2 = np.divide(Array_2, Array_1)\n",
    "print(\"****Division****\")\n",
    "print(\"Test array 1: {}\".format(Array_test_1))\n",
    "print(\"Test array 2: {}\".format(Array_test_2))\n",
    "\n",
    "# mult\n",
    "Array_test_1 = Array_1 * Array_2\n",
    "Array_test_2 = np.multiply(Array_1, Array_2)\n",
    "print(\"****multiply****\")\n",
    "print(\"Test array 1: {}\".format(Array_test_1))\n",
    "print(\"Test array 2: {}\".format(Array_test_2))\n",
    "                   \n",
    "\n",
    "# Trig/calc functions\n",
    "Array_test_1 = np.exp(Array_2)\n",
    "print(\"Exponent: {}\".format(Array_test_1))\n",
    "      \n",
    "Array_test_1 = np.sqrt(Array_2)\n",
    "print(\"Square Root: {}\".format(Array_test_1))\n",
    "      \n",
    "Array_test_1 = np.sin(Array_2)\n",
    "print(\"Sin: {}\".format(Array_test_1))\n",
    "      \n",
    "Array_test_1 = np.cos(Array_2)\n",
    "print(\"Cos: {}\".format(Array_test_1))\n",
    "\n",
    "Array_test_1 = np.log(Array_2)\n",
    "print(\"Log: {}\".format(Array_test_1))"
   ]
  },
  {
   "cell_type": "markdown",
   "id": "3cdd28c9-8f20-4d78-a119-1000fd2dc4a6",
   "metadata": {},
   "source": [
    "### Statistics with Numpy\n",
    "Numpy arrays have built-in statistical modeling tools. Now you do not need to rewrite any of the stat-functions from class 4!"
   ]
  },
  {
   "cell_type": "code",
   "execution_count": null,
   "id": "3ee9b3d5-5025-4fb3-afcd-a660b99816db",
   "metadata": {},
   "outputs": [],
   "source": [
    "x = np.array([20, 22, 30, 35, 20, 18, 19, 20 , 22, 25])\n",
    "\n",
    "# Sum\n",
    "print(x.sum())\n",
    "\n",
    "# Min\n",
    "print(x.min())\n",
    "\n",
    "# Max\n",
    "print(x.max())\n",
    "\n",
    "# Mean\n",
    "print(x.mean())\n",
    "\n",
    "# Median: Note, must use np.median(x) as x.median does not exist\n",
    "print(np.median(x))"
   ]
  },
  {
   "cell_type": "markdown",
   "id": "2c62426f-9fbe-41fe-8f13-d8b136dd742c",
   "metadata": {},
   "source": [
    "### Value indexing (slicing)\n",
    "Numpy arrays are sophisticated versions of Python-3 lists. We can access individual values of an array using slicing. remember, counting starts at 0!"
   ]
  },
  {
   "cell_type": "code",
   "execution_count": null,
   "id": "9e7bd317-e132-4bf1-bbcd-08feb11eab7d",
   "metadata": {},
   "outputs": [],
   "source": [
    "a1 = np.array([1, 2, 3])\n",
    "a1[2]"
   ]
  },
  {
   "cell_type": "code",
   "execution_count": null,
   "id": "979c772a-c3b8-4e6d-819c-16d1c7f29c1e",
   "metadata": {},
   "outputs": [],
   "source": [
    "a1 = np.array([\n",
    "    [1, 2, 3],\n",
    "    [4, 5, 6]\n",
    "])\n",
    "# slicing the second array, 3 value\n",
    "a1[1][2]"
   ]
  },
  {
   "cell_type": "code",
   "execution_count": null,
   "id": "e975a013-4542-4381-b4c8-ea5224b6e7d7",
   "metadata": {},
   "outputs": [],
   "source": [
    "a1 = np.array([1, 2, 3])\n",
    "# slicing all the values from 0-2\n",
    "a1[:2]"
   ]
  },
  {
   "cell_type": "code",
   "execution_count": null,
   "id": "40d329fc-8094-426b-9d45-5bbf0221de91",
   "metadata": {},
   "outputs": [],
   "source": [
    "a1 = np.array([\n",
    "    [1, 2, 3],\n",
    "    [4, 5, 6]\n",
    "])\n",
    "# slicing the whole second array\n",
    "a1[:1]"
   ]
  },
  {
   "cell_type": "markdown",
   "id": "c7256181-54f6-4479-8b27-6f0874fbcfa2",
   "metadata": {},
   "source": [
    "### Broadcasting\n",
    "'Broadcasting' is a term used to describe a single line of code that is executed on all parts of a numpy array. \n",
    "Below you will find a number of broadcasting abilities"
   ]
  },
  {
   "cell_type": "code",
   "execution_count": null,
   "id": "a0a2437d-0ea0-4313-8e68-b81510f722cb",
   "metadata": {},
   "outputs": [],
   "source": [
    "a = np.arange(4)\n",
    "#print(\"a: {}\".format(a))\n",
    "\n",
    "a += 10\n",
    "#print(\"a: {}\".format(a))\n",
    "\n",
    "a *= 3\n",
    "#print(\"a: {}\".format(a))\n",
    "\n",
    "b = np.arange(4)\n",
    "\n",
    "c = a + b\n",
    "print(\"a: {}\".format(a))\n",
    "print(\"b: {}\".format(b))\n",
    "print(\"c: {}\".format(c))"
   ]
  },
  {
   "cell_type": "markdown",
   "id": "043ff298-6d41-417e-be52-158126f62635",
   "metadata": {},
   "source": [
    "### Data Clean up\n",
    "You can add/remove values of a numpy array using the following methods."
   ]
  },
  {
   "cell_type": "code",
   "execution_count": null,
   "id": "2d0f92be-97e8-4526-8d2d-d59a48cbcb82",
   "metadata": {},
   "outputs": [],
   "source": [
    "a = np.array([1, 2, 3, 4, 5, 6])\n",
    "print(a.shape)\n",
    "a.resize((2,6))\n",
    "print(a.shape)"
   ]
  },
  {
   "cell_type": "code",
   "execution_count": null,
   "id": "e9728a47-368b-4e17-9e29-f882c9e1c765",
   "metadata": {},
   "outputs": [],
   "source": [
    "a = np.array([1, 2, 3, 4, 5, 6])\n",
    "np.append(a, 10)"
   ]
  },
  {
   "cell_type": "code",
   "execution_count": null,
   "id": "c7de772e-3a8a-416f-8839-d6c41d960d64",
   "metadata": {},
   "outputs": [],
   "source": [
    "a = np.array([1, 2, 3, 4, 5, 6])\n",
    "np.insert(a, 5, 100)\n",
    "np.insert(a, 2, [4, 4, 4, 4])"
   ]
  },
  {
   "cell_type": "code",
   "execution_count": null,
   "id": "b1ba7b10-18fd-42dd-994e-121dcb37760d",
   "metadata": {},
   "outputs": [],
   "source": [
    "# This method removes at index [n] not the value 'n'\n",
    "a = np.array([1, 2, 3, 4, 5, 6])\n",
    "np.delete(a, [3])"
   ]
  },
  {
   "cell_type": "markdown",
   "id": "63eebeb8-273c-4b3b-aded-798ac8ff7e1e",
   "metadata": {},
   "source": [
    "Note, methods that use np.~~~() do not modify the array, in order to keep the changes, you must assign the return to a variable."
   ]
  },
  {
   "cell_type": "markdown",
   "id": "ae6e7722-71cc-45f3-929f-0688e17c6821",
   "metadata": {},
   "source": [
    "### Data Type challenge\n",
    "Numpy arrays can only hold a single data type. Write this code and determine what data type numpy has assigned. (use .dtype())"
   ]
  },
  {
   "cell_type": "code",
   "execution_count": null,
   "id": "298d6e5d-b2fd-46e3-9859-fe8e5fd8d5c0",
   "metadata": {},
   "outputs": [],
   "source": [
    "test_array = np.array([\n",
    "    [1, 2, 3, 4],\n",
    "    [1.1, 2.2, 3.3, 4.4],\n",
    "    ['1', '2', '3', '4']])"
   ]
  }
 ],
 "metadata": {
  "kernelspec": {
   "display_name": "Python 3 (ipykernel)",
   "language": "python",
   "name": "python3"
  },
  "language_info": {
   "codemirror_mode": {
    "name": "ipython",
    "version": 3
   },
   "file_extension": ".py",
   "mimetype": "text/x-python",
   "name": "python",
   "nbconvert_exporter": "python",
   "pygments_lexer": "ipython3",
   "version": "3.9.12"
  }
 },
 "nbformat": 4,
 "nbformat_minor": 5
}
