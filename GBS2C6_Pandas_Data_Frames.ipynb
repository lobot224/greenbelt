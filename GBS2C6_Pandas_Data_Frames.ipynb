{
 "cells": [
  {
   "cell_type": "markdown",
   "id": "cf978952-3776-4688-99a5-a94777d66c53",
   "metadata": {},
   "source": [
    "# Class 6: Introduction to Pandas pt.2\n",
    "\n",
    "In this Jupyter Notebook you will learn about the basic workings of Pandas Data Frame structures. Please work through this document's Python-3 code cells to experience the power of the Pandas library.\n",
    "\n",
    "Pandas is a standard data science libaray for Python-3. Pandas is built on top of the Numpy library so working with the various data structures should be easy to pick up quickly. You can read about Pandas (Data Frames) more @ the Pandas online docs: https://pandas.pydata.org/pandas-docs/stable/reference/frame.html"
   ]
  },
  {
   "cell_type": "code",
   "execution_count": 119,
   "id": "bf9135ea-9ca4-4a35-8c42-ce3c31ca193c",
   "metadata": {},
   "outputs": [],
   "source": [
    "import pandas as pd"
   ]
  },
  {
   "cell_type": "markdown",
   "id": "e794a494-e6dc-448d-a4f9-0c63909e5fae",
   "metadata": {},
   "source": [
    "___\n",
    "## Pandas Data Frames\n",
    "\n",
    "A **Data Frame** is a multi-level Pandas structure used to store related data points in a _column-x-row_ fashion. Here are a few details about Pandas data frame:\n",
    "* Data frames can be created from many data sources.\n",
    "   * Hard coded\n",
    "   * CSV file\n",
    "   * Excell file\n",
    "   * Online database\n",
    "* Data frames have a wide range of meta-data which can be accessed via easy to use methods.\n",
    "* Data frames can be 'indexed' in a number of ways by column or row key values.\n",
    "* Data frames can be sliced by passing conditional statements into the indexing features.\n",
    "* Data frames can be modified using code to add or remove values."
   ]
  },
  {
   "cell_type": "markdown",
   "id": "2ccff695-a4a5-48a1-a21a-3ae5478a5441",
   "metadata": {
    "tags": []
   },
   "source": [
    "___\n",
    "## Section 1:\n",
    "### Creating Data Frames\n",
    "\n",
    "Here are a few ways to create Pandas data frame (df):\n",
    "1. Hard coding: writing out each value cell.\n",
    "2. Importing from a CVS file.\n",
    "3. Importing from a xcell file.\n",
    "\n",
    "Additionally we will cover in this section how to add custom index values by:\n",
    "1. Hard coding index values\n",
    "2. Convert Column into index values"
   ]
  },
  {
   "cell_type": "markdown",
   "id": "4e4e755b-f62c-4854-9a5d-d7ecd1e3c457",
   "metadata": {},
   "source": [
    "#### 1. Hard coding: writing out each value cell.\n",
    "\n",
    "Data frames can be created by using the **pf.DataFrame()** method which takes a data structure. In this example, we have passed in a raw dictionary structure into the method.\n",
    "\n",
    "You can read more about this method @: "
   ]
  },
  {
   "cell_type": "code",
   "execution_count": 9,
   "id": "fdc271ae-eb6e-41f7-991e-f0df83467ff8",
   "metadata": {},
   "outputs": [],
   "source": [
    "G7_df = pd.DataFrame({\n",
    "    'Population': [35.467, 63.951, 80.94, 60.665, 127.061, 64.511, 318.523],\n",
    "    'GDP': [\n",
    "        1785387,\n",
    "        2833687,\n",
    "        3874437,\n",
    "        2167744,\n",
    "        4602367,\n",
    "        2950039,\n",
    "        17348075\n",
    "    ],\n",
    "    'Surface Area': [\n",
    "        9984670,\n",
    "        640679,\n",
    "        357114,\n",
    "        301336,\n",
    "        377930,\n",
    "        242495,\n",
    "        9525067\n",
    "    ],\n",
    "    'HDI': [\n",
    "        0.913,\n",
    "        0.888,\n",
    "        0.916,\n",
    "        0.873,\n",
    "        0.891,\n",
    "        0.907,\n",
    "        0.915\n",
    "    ],\n",
    "    'Continent': [\n",
    "        'America',\n",
    "        'Europe',\n",
    "        'Europe',\n",
    "        'Europe',\n",
    "        'Asia',\n",
    "        'Europe',\n",
    "        'America'\n",
    "    ]\n",
    "}, columns=['Population', 'GDP', 'Surface Area', 'HDI', 'Continent'])"
   ]
  },
  {
   "cell_type": "code",
   "execution_count": null,
   "id": "0a49e2a3-7c52-4311-b0da-24dbfec12ed8",
   "metadata": {
    "tags": []
   },
   "outputs": [],
   "source": [
    "G7_df"
   ]
  },
  {
   "cell_type": "markdown",
   "id": "d38f724a-9e07-4e17-8276-eddcceb11153",
   "metadata": {},
   "source": [
    "Notice that the above data frame does not have custom named values for the indexs. Right now in order to access a row of data, we would use the numerical position of the row. Below you will see how to add custom index values to the \"G7_df\" structure. Once the cell below has been executed, return to the above cell and rerun it to see the changes!"
   ]
  },
  {
   "cell_type": "code",
   "execution_count": 7,
   "id": "4a59d46c-1b32-4b94-952f-69c110a4a87a",
   "metadata": {},
   "outputs": [],
   "source": [
    "G7_df.index = [\n",
    "    'Canada',\n",
    "    'France',\n",
    "    'Germany',\n",
    "    'Italy',\n",
    "    'Japan',\n",
    "    'United Kingdom',\n",
    "    'United States',\n",
    "]"
   ]
  },
  {
   "cell_type": "markdown",
   "id": "49b627bd-3853-4109-917e-731d8511b434",
   "metadata": {},
   "source": [
    "#### 2.Importing from a CVS file.\n",
    "\n",
    "Data frames can be created by _reading_ a Comma-Seperated-Value (CSV) file using the **pd.read_csv()** method. A CSV file contains the same structure as a data frame so it is quite simple to import.\n",
    "\n",
    "_Notice_: When Pandas reads a csv file, the fist row will be considered the column names.\n",
    "\n",
    "You can read more about this method @ https://pandas.pydata.org/pandas-docs/stable/reference/api/pandas.read_csv.html#pandas.read_csv"
   ]
  },
  {
   "cell_type": "code",
   "execution_count": 49,
   "id": "e54b8fd5-bd2c-45cc-b54c-7faaa1835dfb",
   "metadata": {},
   "outputs": [],
   "source": [
    "G7_df = pd.read_csv(\"G7_data.csv\")"
   ]
  },
  {
   "cell_type": "code",
   "execution_count": null,
   "id": "8403d9d6-9943-415b-ad84-bf0c7dd34c15",
   "metadata": {
    "tags": []
   },
   "outputs": [],
   "source": [
    "G7_df"
   ]
  },
  {
   "cell_type": "markdown",
   "id": "9681d5f7-01af-4dca-bdc3-82d9dd8b079d",
   "metadata": {},
   "source": [
    "#### 3. Importing from a Excel file.\n",
    "\n",
    "Data frames can be create by _reading_ a excel (xlsx) file using the **pd.read_excel()** method. \n",
    "\n",
    "_Notice_: When Pandas reads a csv file, the fist row will be considered the column names.\n",
    "\n",
    "You can read more about this method @ https://pandas.pydata.org/pandas-docs/stable/reference/api/pandas.read_excel.html"
   ]
  },
  {
   "cell_type": "code",
   "execution_count": 51,
   "id": "94e1e2c0-09fa-4134-88f8-5eff1731cc8b",
   "metadata": {},
   "outputs": [],
   "source": [
    "G7_df = pd.read_excel(\"G7_data.xlsx\")"
   ]
  },
  {
   "cell_type": "code",
   "execution_count": null,
   "id": "6bc6b966-d4b0-43d5-ad2a-45f37eec992a",
   "metadata": {},
   "outputs": [],
   "source": [
    "G7_df"
   ]
  },
  {
   "cell_type": "markdown",
   "id": "aeddc1b9-9e70-4f25-ab88-68360c271f38",
   "metadata": {},
   "source": [
    "#### 1. Hard coding index values\n",
    "This process has already been seen at the top of section 1."
   ]
  },
  {
   "cell_type": "code",
   "execution_count": 56,
   "id": "85cb0f9b-77fd-4217-b492-d063d6fac59e",
   "metadata": {},
   "outputs": [],
   "source": [
    "G7_df = pd.read_csv(\"G7_data.csv\")\n",
    "\n",
    "G7_df.index = [\n",
    "    'Canada',\n",
    "    'France',\n",
    "    'Germany',\n",
    "    'Italy',\n",
    "    'Japan',\n",
    "    'United Kingdom',\n",
    "    'United States',\n",
    "]"
   ]
  },
  {
   "cell_type": "markdown",
   "id": "287b9743-1919-4047-9c73-707206805aed",
   "metadata": {},
   "source": [
    "#### 2. Convert Column into index values\n",
    "This process is completed by using the **df.set_index()** method.\n",
    "\n",
    "_Notice_ this method is attatched to a data frame object (G7_df) not the pd library!"
   ]
  },
  {
   "cell_type": "code",
   "execution_count": 154,
   "id": "055d3b2d-d437-443d-a0e8-e2254470ab84",
   "metadata": {},
   "outputs": [
    {
     "data": {
      "text/html": [
       "<div>\n",
       "<style scoped>\n",
       "    .dataframe tbody tr th:only-of-type {\n",
       "        vertical-align: middle;\n",
       "    }\n",
       "\n",
       "    .dataframe tbody tr th {\n",
       "        vertical-align: top;\n",
       "    }\n",
       "\n",
       "    .dataframe thead th {\n",
       "        text-align: right;\n",
       "    }\n",
       "</style>\n",
       "<table border=\"1\" class=\"dataframe\">\n",
       "  <thead>\n",
       "    <tr style=\"text-align: right;\">\n",
       "      <th></th>\n",
       "      <th>Population</th>\n",
       "      <th>GDP</th>\n",
       "      <th>Surface Area</th>\n",
       "      <th>HDI</th>\n",
       "      <th>Continent</th>\n",
       "    </tr>\n",
       "    <tr>\n",
       "      <th>Name</th>\n",
       "      <th></th>\n",
       "      <th></th>\n",
       "      <th></th>\n",
       "      <th></th>\n",
       "      <th></th>\n",
       "    </tr>\n",
       "  </thead>\n",
       "  <tbody>\n",
       "    <tr>\n",
       "      <th>Canada</th>\n",
       "      <td>35.467</td>\n",
       "      <td>1785387</td>\n",
       "      <td>9984670</td>\n",
       "      <td>0.913</td>\n",
       "      <td>America</td>\n",
       "    </tr>\n",
       "    <tr>\n",
       "      <th>France</th>\n",
       "      <td>63.951</td>\n",
       "      <td>2833687</td>\n",
       "      <td>640679</td>\n",
       "      <td>0.888</td>\n",
       "      <td>Europe</td>\n",
       "    </tr>\n",
       "    <tr>\n",
       "      <th>Germany</th>\n",
       "      <td>80.940</td>\n",
       "      <td>3874437</td>\n",
       "      <td>357114</td>\n",
       "      <td>0.916</td>\n",
       "      <td>Europe</td>\n",
       "    </tr>\n",
       "    <tr>\n",
       "      <th>Italy</th>\n",
       "      <td>60.665</td>\n",
       "      <td>2167744</td>\n",
       "      <td>301336</td>\n",
       "      <td>0.873</td>\n",
       "      <td>Europe</td>\n",
       "    </tr>\n",
       "    <tr>\n",
       "      <th>Japan</th>\n",
       "      <td>127.061</td>\n",
       "      <td>4602367</td>\n",
       "      <td>377930</td>\n",
       "      <td>0.891</td>\n",
       "      <td>Asia</td>\n",
       "    </tr>\n",
       "    <tr>\n",
       "      <th>United Kingdom</th>\n",
       "      <td>64.511</td>\n",
       "      <td>2950039</td>\n",
       "      <td>242495</td>\n",
       "      <td>0.907</td>\n",
       "      <td>Europe</td>\n",
       "    </tr>\n",
       "    <tr>\n",
       "      <th>United States</th>\n",
       "      <td>318.523</td>\n",
       "      <td>17348075</td>\n",
       "      <td>9525067</td>\n",
       "      <td>0.915</td>\n",
       "      <td>America</td>\n",
       "    </tr>\n",
       "  </tbody>\n",
       "</table>\n",
       "</div>"
      ],
      "text/plain": [
       "                Population       GDP  Surface Area    HDI Continent\n",
       "Name                                                               \n",
       "Canada              35.467   1785387       9984670  0.913   America\n",
       "France              63.951   2833687        640679  0.888    Europe\n",
       "Germany             80.940   3874437        357114  0.916    Europe\n",
       "Italy               60.665   2167744        301336  0.873    Europe\n",
       "Japan              127.061   4602367        377930  0.891      Asia\n",
       "United Kingdom      64.511   2950039        242495  0.907    Europe\n",
       "United States      318.523  17348075       9525067  0.915   America"
      ]
     },
     "execution_count": 154,
     "metadata": {},
     "output_type": "execute_result"
    }
   ],
   "source": [
    "G7_df = pd.read_csv(\"g7_data_columnNames.csv\")\n",
    "\n",
    "G7_df = G7_df.set_index(\"Name\")\n",
    "\n",
    "G7_df"
   ]
  },
  {
   "cell_type": "markdown",
   "id": "4d98d004-d300-48df-8a04-670991bfd290",
   "metadata": {
    "tags": []
   },
   "source": [
    "___\n",
    "## Section 2:\n",
    "### Getting Information About Data Frames\n",
    "\n",
    "Data frames are packed with information! Using some built in methods, you can quickly access informations that will help you better make decisions on processing. Here are the methods you will practice:\n",
    "\n",
    "|Method/Attribute|Desc.|\n",
    "|:----------|:-----|\n",
    "|df.columns|Outputs the names of the columns in order|\n",
    "|df.index|Outputs the names of indexs in order|\n",
    "|df.info()|Outputs the columns, # filled values, data types|\n",
    "|df.size|Total number of values|\n",
    "|df.shape|(#-index, #-columns)|\n",
    "|df.head()|Output the first 10 rows (indexs)|\n",
    "|df.tail()|Output the last 10 rows (indexs)|\n",
    "|df.dtypes|Output the data types of each column|\n",
    "|df.dtypes.value_counts()|Output the number of each data type|\n",
    "|df.describe()|Output basic statistical information on columns with numerical data|"
   ]
  },
  {
   "cell_type": "code",
   "execution_count": null,
   "id": "762e4f1c-6b9e-4c2f-b9c4-fe77f231eaba",
   "metadata": {},
   "outputs": [],
   "source": [
    "G7_df.columns"
   ]
  },
  {
   "cell_type": "code",
   "execution_count": null,
   "id": "c1cdff61-e3c4-4169-a1c0-e5426887dac9",
   "metadata": {},
   "outputs": [],
   "source": [
    "G7_df.index"
   ]
  },
  {
   "cell_type": "code",
   "execution_count": null,
   "id": "261dae1c-6934-4cbd-908a-50cec2693f38",
   "metadata": {},
   "outputs": [],
   "source": [
    "# output the index's using a for-loop\n",
    "for index in G7_df.index:\n",
    "    print(index)"
   ]
  },
  {
   "cell_type": "code",
   "execution_count": null,
   "id": "acb46db9-66e4-465a-be0b-c33d42b59f0e",
   "metadata": {},
   "outputs": [],
   "source": [
    "G7_df.info()"
   ]
  },
  {
   "cell_type": "code",
   "execution_count": null,
   "id": "60844d66-b31a-470d-b696-07fadb5eec19",
   "metadata": {},
   "outputs": [],
   "source": [
    "G7_df.size"
   ]
  },
  {
   "cell_type": "code",
   "execution_count": null,
   "id": "7f49c48b-bbb8-4752-b42d-ea93037f335a",
   "metadata": {},
   "outputs": [],
   "source": [
    "G7_df.shape"
   ]
  },
  {
   "cell_type": "code",
   "execution_count": null,
   "id": "2d8c27cd-0155-4195-adaa-7209547eb781",
   "metadata": {},
   "outputs": [],
   "source": [
    "G7_df.head()"
   ]
  },
  {
   "cell_type": "code",
   "execution_count": null,
   "id": "c4a40161-5599-4f6a-988d-a4cb4134c5ba",
   "metadata": {},
   "outputs": [],
   "source": [
    "G7_df.tail()"
   ]
  },
  {
   "cell_type": "code",
   "execution_count": null,
   "id": "99c0f765-6c9f-40d0-8f67-d4b684bbe842",
   "metadata": {},
   "outputs": [],
   "source": [
    "G7_df.describe()"
   ]
  },
  {
   "cell_type": "code",
   "execution_count": null,
   "id": "021d7fba-8f6a-4160-a4a5-2954399a0434",
   "metadata": {},
   "outputs": [],
   "source": [
    "G7_df.dtypes"
   ]
  },
  {
   "cell_type": "code",
   "execution_count": null,
   "id": "083b69b2-058b-4c8e-b919-9b6c462cc770",
   "metadata": {},
   "outputs": [],
   "source": [
    "G7_df.dtypes.value_counts()"
   ]
  },
  {
   "cell_type": "markdown",
   "id": "7c681ce1-f192-457c-a696-cf2fbca327d1",
   "metadata": {},
   "source": [
    "___\n",
    "## Section 3:\n",
    "### Indexing data frames\n",
    "\n",
    "Similar to the Pandas series, data frames can be indexed a number of ways. Indexing and slicing is a very important process in data science. Sometimes the data set your program is working with is too big, or contains many columns/rows that are not neccesary to the overall goal (at the moment). Knowing how to index is very important, please make sure to practice these concepts! In this section you will see how to index our data frame (G7_df) in the following ways:\n",
    "\n",
    "\n",
    "|Index Style|Desc.|\n",
    "|:----------|:-----|\n",
    "|df.iloc[]|Indexing row based on the numerical position|\n",
    "|df.iloc[1:4]|Indexing a slice of rows|\n",
    "|df.iloc[1,2]|Indexing an explicit cell|\n",
    "|df.iloc[1, [0,-1]]|Indexing an explicit row and display the selected column(s)|\n",
    "|df.iloc[1:3, [0,-1]]|Indexing an explicit selection of rows and display the selected column(s)|\n",
    "|df.iloc[1:3, 0]|Indexing an explicit selection of rows and display the selected column(s) unformatted|\n",
    "|df.iloc[1:3, 0:1]|Indexing an explicit selection of rows and display the selected column(s)|\n",
    "|df[\"column\"]|Index the column based on its custom name|\n",
    "|df.loc[\"key-value\"]|Index the row based on its custom name|\n",
    "|df.loc[\"key\" : \"key\"]|Index a slice of rows based on custom index names|\n",
    "|df.loc[\"key\" : \"key\", \"column\"]|Index a slice of rows/column based on custom index names|\n",
    "|df.loc[\"key\" : \"key\", [\"column\", \"column\"]]|Index a slice of rows/columns based on custom index names|\n",
    "|df['column'].to_frame()|Index a column and show in formatted table|\n",
    "\n",
    "* **iloc()** is \"Purely integer-location based indexing for selection by position.\"(docs). \n",
    "* * Learn more about the attributes and features of **iloc** by visting the docs @ https://pandas.pydata.org/pandas-docs/stable/reference/api/pandas.DataFrame.iloc.html\n",
    "* **loc()** is \"Access a group of rows and columns by label(s) or a boolean array.\"(docs). \n",
    "* * :earn more about the attributes and features of **iloc** by visting the docs @ https://pandas.pydata.org/pandas-docs/stable/reference/api/pandas.DataFrame.iloc.html\n",
    "\n",
    "_Notice_: The term 'key' is the index's name (name of countries for G7_df).\n",
    "\n",
    "_Notice_ the **indexing** styles returns a new data frame, in order to 'save' the new data frame, you will need to store it in some object."
   ]
  },
  {
   "cell_type": "code",
   "execution_count": null,
   "id": "b712c2a3-6dc9-4a74-bb50-652677311b76",
   "metadata": {},
   "outputs": [],
   "source": [
    "G7_df.iloc[0]"
   ]
  },
  {
   "cell_type": "code",
   "execution_count": null,
   "id": "c2da1e3a-d374-46c7-a8d2-b1ca3b252003",
   "metadata": {},
   "outputs": [],
   "source": [
    "G7_df.iloc[1:4]"
   ]
  },
  {
   "cell_type": "code",
   "execution_count": null,
   "id": "e2acbaf6-8b69-4e97-8bc0-ce0b2dadf477",
   "metadata": {},
   "outputs": [],
   "source": [
    "G7_df.iloc[1,2]"
   ]
  },
  {
   "cell_type": "code",
   "execution_count": null,
   "id": "7aa75b3d-568d-4bcd-bfe9-1a7d3b86525a",
   "metadata": {},
   "outputs": [],
   "source": [
    "G7_df.iloc[1, [0,-1]]"
   ]
  },
  {
   "cell_type": "code",
   "execution_count": null,
   "id": "40733f59-3a6e-4090-880e-6a94e0b38c2e",
   "metadata": {},
   "outputs": [],
   "source": [
    "G7_df.iloc[1:3, [0,-1]]"
   ]
  },
  {
   "cell_type": "code",
   "execution_count": null,
   "id": "2f293f72-04b3-490b-808a-1214388b8760",
   "metadata": {},
   "outputs": [],
   "source": [
    "G7_df.iloc[1:3, 0]"
   ]
  },
  {
   "cell_type": "code",
   "execution_count": null,
   "id": "3c3e03d9-12f3-4c7c-b884-b97de75353d3",
   "metadata": {},
   "outputs": [],
   "source": [
    "G7_df.iloc[1:3, 0:1]"
   ]
  },
  {
   "cell_type": "code",
   "execution_count": null,
   "id": "c8cc4914-57c3-4d49-a670-0f5ec77d0e1a",
   "metadata": {},
   "outputs": [],
   "source": [
    "G7_df[\"Population\"]"
   ]
  },
  {
   "cell_type": "code",
   "execution_count": null,
   "id": "ab3f22fd-1430-4a3d-8dc8-4d64334f1da1",
   "metadata": {},
   "outputs": [],
   "source": [
    "G7_df.loc[\"United States\"]"
   ]
  },
  {
   "cell_type": "code",
   "execution_count": null,
   "id": "a652ad5c-7b4d-4f71-815f-c35bcaad2c04",
   "metadata": {},
   "outputs": [],
   "source": [
    "G7_df.loc[\"Canada\" : \"Japan\"]"
   ]
  },
  {
   "cell_type": "code",
   "execution_count": null,
   "id": "adc1f868-3024-4dc8-bd96-a42a8cc32b35",
   "metadata": {},
   "outputs": [],
   "source": [
    "G7_df.loc[\"Germany\" : \"Japan\", \"HDI\"]"
   ]
  },
  {
   "cell_type": "code",
   "execution_count": null,
   "id": "30008b05-c460-4329-b246-59f068583b10",
   "metadata": {},
   "outputs": [],
   "source": [
    "G7_df.loc[\"Germany\" : \"Japan\", [\"GDP\", \"HDI\"]]"
   ]
  },
  {
   "cell_type": "code",
   "execution_count": null,
   "id": "8d9d695e-c4ac-498e-b0f3-c8fff549d23d",
   "metadata": {},
   "outputs": [],
   "source": [
    "G7_df['Population'].to_frame()"
   ]
  },
  {
   "cell_type": "markdown",
   "id": "aa073277-5c4a-4378-8d0b-b9257292d64e",
   "metadata": {
    "tags": []
   },
   "source": [
    "___\n",
    "## Section 4:\n",
    "### Conditional Indexing\n",
    "\n",
    "Similar to the Pandas series, data frames can be indexed by passing conditional statements inside the brackets. This is a very powerful tool used to isolate sub sections of data:\n",
    "\n",
    "|Index Style|Desc.|\n",
    "|:----------|:-----|\n",
    "|df[\"column\"] > val|Return the rows that their columns meet a condition (no data)|\n",
    "|df.loc[df['column'] > 70]|Return the rows that their columns meet a condition (with data)|\n",
    "|df.loc[df['column'] > 70, 'column']|Return the rows that their columns meet a condition (with specified column-data)|\n",
    "|df.loc[df['column'] > 70, ['column', 'column']]|Return the rows that their columns meet a condition (with specified columns-data)|\n",
    "\n",
    "_Notice_ the **conditional indexing** styles returns a new data frame, in order to 'save' the new data frame, you will need to store it in some object."
   ]
  },
  {
   "cell_type": "code",
   "execution_count": null,
   "id": "646bdc13-1259-4ca3-bf8e-0e50d7686e7e",
   "metadata": {},
   "outputs": [],
   "source": [
    "G7_df[\"Population\"] > 70"
   ]
  },
  {
   "cell_type": "code",
   "execution_count": null,
   "id": "33b797c9-20e8-468e-9aa1-ba669e2a59ce",
   "metadata": {},
   "outputs": [],
   "source": [
    "G7_df.loc[G7_df['Population'] > 70]"
   ]
  },
  {
   "cell_type": "code",
   "execution_count": null,
   "id": "08f73a75-0550-4d29-9a83-83d9fee60775",
   "metadata": {},
   "outputs": [],
   "source": [
    "G7_df.loc[G7_df['Population'] > 70, 'GDP']"
   ]
  },
  {
   "cell_type": "code",
   "execution_count": null,
   "id": "31123b0d-d31e-4cc0-9ef1-f624e29cc197",
   "metadata": {},
   "outputs": [],
   "source": [
    "G7_df.loc[G7_df['Population'] > 70, ['Population', 'GDP']]"
   ]
  },
  {
   "cell_type": "markdown",
   "id": "937ee071-a854-4371-b609-6c80ab223520",
   "metadata": {
    "tags": []
   },
   "source": [
    "___\n",
    "## Section 5:\n",
    "### Removing rows/columns using df.drop()\n",
    "\n",
    "Similar to the Pandas series, data frames can be indexed by passing conditional statements inside the brackets. This is a very powerful tool used to isolate sub sections of data:\n",
    "\n",
    "|Index Style|Desc.|\n",
    "|:----------|:-----|\n",
    "|df.drop('key')|Remove a row with specific index|\n",
    "|df.drop(['key', 'key'])|Remove a specified set of rows|\n",
    "|df.drop(columns=['column', 'column'])|Remove a specific set of columns|\n",
    "|df.drop(['key', 'key'], axis=0)|Removes a specific set of rows (when axis=0)|\n",
    "|df.drop(['column', 'column'], axis=1)|Removes a specific set of columns (when axis=1)|\n",
    "|df.drop(['column', 'column'], axis='columns')|Removes a specific set of columns (when axis='columns')|\n",
    "|df.drop(['key', 'key'], axis='rows')|Removes a specific set of rows (when axis='rows')|\n",
    "\n",
    "_Notice_ the **df.drop()** method returns a new data frame, in order to 'save' the new data frame, you will need to store it in some object."
   ]
  },
  {
   "cell_type": "code",
   "execution_count": null,
   "id": "daab2a10-fa3d-4944-81df-20740fad2a33",
   "metadata": {},
   "outputs": [],
   "source": [
    "G7_df.drop('France')"
   ]
  },
  {
   "cell_type": "code",
   "execution_count": null,
   "id": "752e3d10-278c-4c84-b4d2-f72a3e0bbbe9",
   "metadata": {},
   "outputs": [],
   "source": [
    "G7_df.drop(['Italy', 'Canada'])"
   ]
  },
  {
   "cell_type": "code",
   "execution_count": null,
   "id": "1ed4ad58-8933-4372-9fbc-d4c27b439654",
   "metadata": {},
   "outputs": [],
   "source": [
    "G7_df.drop(columns=['Surface Area', 'Continent'])"
   ]
  },
  {
   "cell_type": "code",
   "execution_count": null,
   "id": "2a6892f4-6d4e-40f3-a893-432cfff3f9ee",
   "metadata": {},
   "outputs": [],
   "source": [
    "G7_df.drop(['United Kingdom', 'United States'], axis=0)"
   ]
  },
  {
   "cell_type": "code",
   "execution_count": null,
   "id": "b127003b-b3f5-4dbf-ad92-843ed92f5aef",
   "metadata": {},
   "outputs": [],
   "source": [
    "G7_df.drop(['Population', 'GDP'], axis=1)"
   ]
  },
  {
   "cell_type": "code",
   "execution_count": null,
   "id": "11bff185-5c87-4c1d-9dc7-a1f287fc05bf",
   "metadata": {},
   "outputs": [],
   "source": [
    "G7_df.drop(['Population', 'GDP'], axis='columns')"
   ]
  },
  {
   "cell_type": "code",
   "execution_count": null,
   "id": "335ed8df-6a2e-44c2-874c-59ccde5950e2",
   "metadata": {},
   "outputs": [],
   "source": [
    "G7_df.drop(['United Kingdom', 'United States'], axis='rows')"
   ]
  },
  {
   "cell_type": "markdown",
   "id": "4f58452a-f2e3-4b49-b250-925424be7ca2",
   "metadata": {
    "tags": []
   },
   "source": [
    "___\n",
    "## Section 6:\n",
    "### Data Frame Operations\n",
    "\n",
    "Using the basics of indexing, data frames can execute arithmetic operations on one or more columns at a time. "
   ]
  },
  {
   "cell_type": "code",
   "execution_count": null,
   "id": "c6c884d5-cf89-4c73-a7f6-4e0c104e6e2e",
   "metadata": {},
   "outputs": [],
   "source": [
    "# Fro demo output only\n",
    "G7_df[['Population', 'GDP']]"
   ]
  },
  {
   "cell_type": "code",
   "execution_count": null,
   "id": "d9424972-5ef6-4d22-b513-06a3275477a5",
   "metadata": {},
   "outputs": [],
   "source": [
    "G7_df[['Population', 'GDP']] / 100"
   ]
  },
  {
   "cell_type": "markdown",
   "id": "f2f7f01b-297b-48b0-991d-51358878236e",
   "metadata": {},
   "source": [
    "Data frames and series can be merged together using arithmetic operations when the columns are aligned."
   ]
  },
  {
   "cell_type": "code",
   "execution_count": null,
   "id": "acfd9aaa-6d39-4a92-b181-60b853675c60",
   "metadata": {},
   "outputs": [],
   "source": [
    "crisis = pd.Series([-1_000_000, -0.3], index=['GDP', 'HDI'])\n",
    "crisis"
   ]
  },
  {
   "cell_type": "code",
   "execution_count": null,
   "id": "d9b55263-afa6-4215-ab3c-9a9f30fe28ba",
   "metadata": {},
   "outputs": [],
   "source": [
    "G7_df[['GDP', 'HDI']] + crisis"
   ]
  },
  {
   "cell_type": "markdown",
   "id": "25551b1b-276c-486c-833e-8bc961c5f5d3",
   "metadata": {
    "tags": []
   },
   "source": [
    "___\n",
    "## Section 7:\n",
    "### Modifying Data Frames\n",
    "\n",
    "In this section you will see the following ways to modify a Pandas data frame:\n",
    "* New columns can be created by including simple Pandas series.\n",
    "* New rows can be created using the **append()** method.\n",
    "* Using the basics of indexing, data frames can execute arithmetic operations on one or more columns at a time.\n",
    "* Basic statistical analysis can be conducted on data frame columns."
   ]
  },
  {
   "cell_type": "code",
   "execution_count": 141,
   "id": "178ab1ae-004d-4e46-9d23-a056065ec4ba",
   "metadata": {},
   "outputs": [],
   "source": [
    "langs = pd.Series(\n",
    "    ['French', 'German', 'Italian'],\n",
    "    index=['France', 'Germany', 'Italy'],\n",
    "    name='Language'\n",
    ")"
   ]
  },
  {
   "cell_type": "code",
   "execution_count": null,
   "id": "a063aa45-35bd-4f3b-8c12-a8808b2dd1ca",
   "metadata": {},
   "outputs": [],
   "source": [
    "langs"
   ]
  },
  {
   "cell_type": "code",
   "execution_count": null,
   "id": "2fa67ed3-2229-4230-ba7b-4d465be58421",
   "metadata": {},
   "outputs": [],
   "source": [
    "G7_df['Language'] = langs"
   ]
  },
  {
   "cell_type": "code",
   "execution_count": null,
   "id": "aa41a5b4-cf42-45a8-a44e-43bcd2687118",
   "metadata": {},
   "outputs": [],
   "source": [
    "G7_df"
   ]
  },
  {
   "cell_type": "code",
   "execution_count": null,
   "id": "bd32212e-e093-4c8c-8f02-04516a1fb262",
   "metadata": {},
   "outputs": [],
   "source": [
    "# replacing all values in a column\n",
    "G7_df['Language'] = 'English'"
   ]
  },
  {
   "cell_type": "code",
   "execution_count": null,
   "id": "a462d6ab-7299-4cda-89ff-0c48c486a9b6",
   "metadata": {},
   "outputs": [],
   "source": [
    "G7_df"
   ]
  },
  {
   "cell_type": "code",
   "execution_count": null,
   "id": "44bd9664-697f-402e-899b-23502a9da11c",
   "metadata": {},
   "outputs": [],
   "source": [
    "# Renaming columns and index values\n",
    "G7_df.rename(\n",
    "    columns={\n",
    "        'HDI': 'Human Development Index',\n",
    "        'Anual Popcorn Consumption': 'APC'\n",
    "    }, index={\n",
    "        'United States': 'USA',\n",
    "        'United Kingdom': 'UK',\n",
    "        'Argentina': 'AR'\n",
    "    })"
   ]
  },
  {
   "cell_type": "markdown",
   "id": "f722e091-9ea6-4377-b9a4-c2021f6a58f6",
   "metadata": {},
   "source": [
    "_Notice_ that in the above code, we have added the renaming of a column that does not exist! This is simply to demonstate that Pandas can recognize this and knows how to handle it (by ignoring it). The same is true for changing the index \"Argentina\" to \"AR\" which also does not exist."
   ]
  },
  {
   "cell_type": "code",
   "execution_count": null,
   "id": "d03307d7-0ebc-473d-966b-722731de6247",
   "metadata": {},
   "outputs": [],
   "source": [
    "# Making index uppercase\n",
    "G7_df.rename(index=str.upper)"
   ]
  },
  {
   "cell_type": "code",
   "execution_count": null,
   "id": "aaf0370c-d0d3-43e3-a31c-48482feca3f6",
   "metadata": {},
   "outputs": [],
   "source": [
    "# adding new rows (with index value)\n",
    "G7_df.append(pd.Series({\n",
    "    'Population': 3,\n",
    "    'GDP': 5 \n",
    "}, name=\"China\"))"
   ]
  },
  {
   "cell_type": "code",
   "execution_count": null,
   "id": "4549c950-c278-4a2f-92f5-92804be9d14f",
   "metadata": {},
   "outputs": [],
   "source": [
    "# Modifying a column using a series object\n",
    "G7_df.loc['China'] = pd.Series({'Population': 1_400_000_000, 'Continent': 'Asia'})"
   ]
  },
  {
   "cell_type": "code",
   "execution_count": null,
   "id": "bfcc772b-c7f9-4fce-9387-ea8a3441210c",
   "metadata": {},
   "outputs": [],
   "source": [
    "G7_df"
   ]
  },
  {
   "cell_type": "code",
   "execution_count": null,
   "id": "2e4a7cac-dd00-4651-9990-b68923dd0451",
   "metadata": {},
   "outputs": [],
   "source": [
    "# removing index names\n",
    "G7_df.reset_index()"
   ]
  },
  {
   "cell_type": "code",
   "execution_count": null,
   "id": "ea4a2191-aa12-4e0d-b843-85122cd1313c",
   "metadata": {},
   "outputs": [],
   "source": [
    "# Creating new column based on operations of existing columns\n",
    "G7_df['GDP Per Capita'] = G7_df['GDP'] / G7_df['Population']"
   ]
  },
  {
   "cell_type": "markdown",
   "id": "6e461111-0f49-4e55-b278-7f4f6b623399",
   "metadata": {},
   "source": [
    "#### General statistical processing of a single column."
   ]
  },
  {
   "cell_type": "code",
   "execution_count": null,
   "id": "ce4d1039-e5bc-4fb9-93ff-96a00a25186b",
   "metadata": {},
   "outputs": [],
   "source": [
    "population = G7_df['Population']"
   ]
  },
  {
   "cell_type": "code",
   "execution_count": null,
   "id": "db4ce33a-42ba-4fd1-a76c-bdd8e9af2d84",
   "metadata": {},
   "outputs": [],
   "source": [
    "population.min(), population.max()"
   ]
  },
  {
   "cell_type": "code",
   "execution_count": null,
   "id": "f18cb76c-43eb-440b-8131-c10b8bba0475",
   "metadata": {},
   "outputs": [],
   "source": [
    "population.sum()"
   ]
  },
  {
   "cell_type": "code",
   "execution_count": null,
   "id": "394504c9-b3f8-476d-82ca-2b3f2a5ddcf5",
   "metadata": {},
   "outputs": [],
   "source": [
    "population.sum() / len(population)"
   ]
  },
  {
   "cell_type": "code",
   "execution_count": null,
   "id": "727dc38d-1993-44f1-beeb-cd5fd9f04a0e",
   "metadata": {
    "scrolled": true
   },
   "outputs": [],
   "source": [
    "population.mean()"
   ]
  },
  {
   "cell_type": "code",
   "execution_count": null,
   "id": "629a0b30-6c20-4c40-b750-ce46342d03fa",
   "metadata": {},
   "outputs": [],
   "source": [
    "population.std()"
   ]
  },
  {
   "cell_type": "code",
   "execution_count": null,
   "id": "f1a8c84c-03e3-4dbf-9f8e-adaf7a510d60",
   "metadata": {},
   "outputs": [],
   "source": [
    "population.median()"
   ]
  },
  {
   "cell_type": "code",
   "execution_count": null,
   "id": "55f1b364-9dde-4343-b34c-e4d05896d29b",
   "metadata": {
    "scrolled": true
   },
   "outputs": [],
   "source": [
    "population.describe()"
   ]
  },
  {
   "cell_type": "code",
   "execution_count": null,
   "id": "43af226a-53a5-48ee-b308-138110f21a50",
   "metadata": {
    "scrolled": true
   },
   "outputs": [],
   "source": [
    "population.quantile(.25)"
   ]
  },
  {
   "cell_type": "code",
   "execution_count": null,
   "id": "557d5bc5-7c26-4917-a8d3-2054b7f51e13",
   "metadata": {},
   "outputs": [],
   "source": [
    "population.quantile([.2, .4, .6, .8, 1])"
   ]
  },
  {
   "cell_type": "code",
   "execution_count": null,
   "id": "f94e1d34-adc1-4a67-86b9-fdf8ce1b79c0",
   "metadata": {},
   "outputs": [],
   "source": []
  }
 ],
 "metadata": {
  "kernelspec": {
   "display_name": "Python 3 (ipykernel)",
   "language": "python",
   "name": "python3"
  },
  "language_info": {
   "codemirror_mode": {
    "name": "ipython",
    "version": 3
   },
   "file_extension": ".py",
   "mimetype": "text/x-python",
   "name": "python",
   "nbconvert_exporter": "python",
   "pygments_lexer": "ipython3",
   "version": "3.9.12"
  }
 },
 "nbformat": 4,
 "nbformat_minor": 5
}
