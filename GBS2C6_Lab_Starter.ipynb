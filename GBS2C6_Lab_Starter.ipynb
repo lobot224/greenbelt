{
 "cells": [
  {
   "cell_type": "markdown",
   "id": "558b7e79-fea5-4ad0-921f-934b27982aa0",
   "metadata": {},
   "source": [
    "# Class 6 Lab: Data frames challenge!\n",
    "\n",
    "#### Welcome to Lab 6 of Green belt sprint 2\n",
    "\n",
    "In this lab, you will be putting your Pandas skills to the test by working with a fun data set regarding super hero characters (Marvel vs DC)! You will be working with 3 **Pandas data frames** to process the information regarding the superheros to find out which universe is the best. Additionally, you will be challenged to build, modify, index, and slice these data frames to identify key pieces of data that will help you better make your decision. \n",
    "\n",
    "Please read each section introduction to understand what, why, and how you will be doing things!\n",
    "___"
   ]
  },
  {
   "cell_type": "markdown",
   "id": "a544a882-0468-4c7f-8d2d-4f8cc3d45df5",
   "metadata": {},
   "source": [
    "## Introduction\n",
    "\n",
    "Superheros are a large part of the of the entertainment industry. In the early 20th century comic books were produced with characters who possessed fantastical powers, fought crime, and taught the readers a lesson or two about universal morals. Today, superheros have become larger than life; books, movies, TV-shows, conventions, fan-groups, and online-blogs make up the ever evolving world of super heros.\n",
    "\n",
    "There are 2 main outfits of superhero fiction, Marvel, and DC. These leaders in superhero storytelling have created entire 'universes' for their superheros to live in and interact with one another. Superheros have been grabbing the attention of views for almost a century using fantastical powers, it is time for you to put your data science powers to the test!\n",
    "\n",
    "<img width=400 src=\"Marvel_v_dc.jpg\"></img>"
   ]
  },
  {
   "cell_type": "markdown",
   "id": "841651bb-8e34-49d6-a4f0-fb61778447a3",
   "metadata": {},
   "source": [
    "___\n",
    "### Section 1: Importing tools\n",
    "Please import Pandas library."
   ]
  },
  {
   "cell_type": "markdown",
   "id": "39d25e71-a0c9-4d1b-be6f-666ea5344719",
   "metadata": {
    "tags": []
   },
   "source": [
    "___\n",
    "### Section 2: Creating the data frames\n",
    "\n",
    "For this lab you will be working with 3 data sets\n",
    "1. Marvel character info\n",
    "   * \"Marvel.csv\"\n",
    "2. DC character info\n",
    "   * \"Dc.csv\"\n",
    "3. Movie franchise data\n",
    "   * \"Super_hero_Box_office.csv\"\n",
    "\n",
    "Each of these data sets will be imported from a comma seperated value (CSV) file. Please refer to the class notebook on Pandas data frames to complete this task.\n",
    "\n",
    "**Here are the tasks you should complete for this section:**\n",
    "1. Import each data set (csv file) and store it in its own **Pandas data frame**\n",
    "2. Output the first few rows of each data frame (_note_ there is a method to do this)."
   ]
  },
  {
   "cell_type": "markdown",
   "id": "8d8c7ad5-e30b-4928-a4c2-4eedbdbb0337",
   "metadata": {},
   "source": [
    "___\n",
    "### Section 3: Creating Column names\n",
    "\n",
    "After inspecting the data frames, you should notice that the **Marvel_df** and **DC_df** both are missing column names. For this section **please create names for the columns.**\n",
    "\n",
    "||Super Hero|Gender|Release Date|\n",
    "|:--|:--|:--|:--|\n",
    "|0|Catwoman|female |1940|\n",
    "|1|Batman|male|1939|\n",
    "|2|Superman|male|1938|\n",
    "|3|Watchman|male|1986|"
   ]
  },
  {
   "cell_type": "markdown",
   "id": "680b1f3f-207b-4b89-b7df-cbab0f971259",
   "metadata": {},
   "source": [
    "___\n",
    "### Section 4: Getting basic information\n",
    "\n",
    "Use the built in Pandas data frame methods and learn a bit more about the data frames you will be working with"
   ]
  },
  {
   "cell_type": "markdown",
   "id": "8bbf1918-e38c-462c-bfaa-4b97379920ec",
   "metadata": {},
   "source": [
    "___\n",
    "### Section 5: Gender break-down\n",
    "\n",
    "You should have noticed that the Marvel and DC data frames contain the names, genders, and release dates for each super hero. Please create a single data frame of both Marvel and DC, then output the number of male and the number of female characters. Additionally, if you want to make the output of the information nicer, you moght want to output the total count of superheros as well.\n",
    "\n",
    "_Hint_ You can use conditional indexing with string values!\n",
    "_Hint_ You will want to get the _count_ of each gender"
   ]
  },
  {
   "cell_type": "markdown",
   "id": "904d725c-6333-422e-ac13-efd3f6fd6d66",
   "metadata": {},
   "source": [
    "___\n",
    "### Section 6: Whole is the Oldest? Who is the Youngest?\n",
    "\n",
    "Both **Marvel_df** and **DC_df** have a column which holds the year in which the super hero was first introduced into their respective universe.\n",
    "**For this section, please identify the oldest and the youngest super hero for their universe.**"
   ]
  },
  {
   "cell_type": "markdown",
   "id": "d2c5113a-84c1-4168-89ce-6a10b8dd2779",
   "metadata": {
    "tags": []
   },
   "source": [
    "___\n",
    "### Section 7: Exploring movie data\n",
    "\n",
    "Use the basic Pandas methods and processing procedures to explore the data set **\"Film_Data_df\"** as a whole to gain some insight into the data you will be working with."
   ]
  },
  {
   "cell_type": "markdown",
   "id": "dc5e5ab3-4135-4c7b-b156-7ffa10da5a67",
   "metadata": {
    "tags": []
   },
   "source": [
    "___\n",
    "### Section 8: Who has the most movies?\n",
    "\n",
    "Please tally up the number of movies from Marvel and the number of movies from DC."
   ]
  },
  {
   "cell_type": "markdown",
   "id": "9592ecce-2f62-4648-a045-17c44f634c8f",
   "metadata": {
    "tags": []
   },
   "source": [
    "___\n",
    "### Section 9: What superhero made the most money?\n",
    "\n",
    "Some superheros are more popular than others, please find out what superhero has the highest \"Gross Worldwide\" sales on a single movie for thier franchise."
   ]
  },
  {
   "cell_type": "markdown",
   "id": "bdca5bca-15e7-48d6-8484-6f07868deaba",
   "metadata": {
    "tags": []
   },
   "source": [
    "___\n",
    "### Section 10: Is there a relationship between budget and revenue?\n",
    "\n",
    "As you might know, superhero movies are larger then life. Millions of USD ($) is funneled into superhero movies in the hopes that the return on investment will be exponentially great! Please determine if there is a **correlation** in our data set in regards to the films **budget** and **gross world revenue**. \n",
    "Please see the chart below for information on what the correlation coeffiecent represents:\n",
    "\n",
    "The returned number should vary from -1 to 1.\n",
    "* 1 means that there is a 1 to 1 relationship (a perfect correlation), and for this data set, each time a value went up in the first column, the other one went up as well.\n",
    "* 0.9 is also a good relationship, and if you increase one value, the other will probably increase as well.\n",
    "* -0.9 would be just as good relationship as 0.9, but if you increase one value, the other will probably go down.\n",
    "* 0.2 means NOT a good relationship, meaning that if one value goes up does not mean that the other will.\n",
    "\n",
    "**Bonus**: Can you plot the data using Matplotlib? "
   ]
  },
  {
   "cell_type": "markdown",
   "id": "f3885029-b00e-4aa8-8beb-dcbfa946a7df",
   "metadata": {
    "tags": []
   },
   "source": [
    "___\n",
    "### Section 11: Is there a relationship between length and rating?\n",
    "\n",
    "Use the same technique as in section 10 to determine what type (if any) of correlation is present in the data set regarding the **length** of the film and the overal **rating**."
   ]
  },
  {
   "cell_type": "markdown",
   "id": "2845b81c-df97-4018-99fe-2dc69930fb78",
   "metadata": {
    "tags": []
   },
   "source": [
    "___\n",
    "### Section 12: Who has made more money Marvel or DC?\n",
    "\n",
    "In this section, please create tallys up the total revenue made by each franchise.\n",
    "\n",
    "Additioanlly, please _exclude_ the team-movies such as the **Avengers** and the **Justice League** as we are concerned with single super hero movies!"
   ]
  },
  {
   "cell_type": "markdown",
   "id": "e7b7a9f4-71a6-4eb7-954b-94760a9826dc",
   "metadata": {
    "tags": []
   },
   "source": [
    "___\n",
    "### Section 13: What is the standard deviation of the gross revanue for Marvel and DC movies?\n",
    "\n",
    "The standard deviation will determine if the data set of movie profits are tightly packed. With this metric, you will be able to tell if the spread of the data shows how successful one or all the movies are."
   ]
  },
  {
   "cell_type": "markdown",
   "id": "d8e00e97-3b7a-4d14-8938-ec92049e62c5",
   "metadata": {
    "tags": []
   },
   "source": [
    "___\n",
    "### Section 14: Free Time!\n",
    "\n",
    "It is your turn to play with the 3 data sets and explore the information hidden in them. Please choose some area of the data set(s) to focus on and then run different processing features on it. Please be prepared to demonstrate your findings to the class!\n",
    "\n",
    "**Good luck!**"
   ]
  },
  {
   "cell_type": "code",
   "execution_count": null,
   "id": "d2736cfe-e316-430a-a031-6ecf46ea6922",
   "metadata": {},
   "outputs": [],
   "source": []
  }
 ],
 "metadata": {
  "kernelspec": {
   "display_name": "Python 3 (ipykernel)",
   "language": "python",
   "name": "python3"
  },
  "language_info": {
   "codemirror_mode": {
    "name": "ipython",
    "version": 3
   },
   "file_extension": ".py",
   "mimetype": "text/x-python",
   "name": "python",
   "nbconvert_exporter": "python",
   "pygments_lexer": "ipython3",
   "version": "3.9.12"
  }
 },
 "nbformat": 4,
 "nbformat_minor": 5
}
